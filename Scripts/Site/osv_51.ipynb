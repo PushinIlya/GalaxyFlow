{
 "cells": [
  {
   "cell_type": "markdown",
   "id": "44df2cbf",
   "metadata": {},
   "source": [
    "## Обработка ОСВ по счету 51 \"Расчетные счета\""
   ]
  },
  {
   "cell_type": "code",
   "execution_count": null,
   "id": "39a3d4e7",
   "metadata": {
    "scrolled": true
   },
   "outputs": [],
   "source": [
    "'''\n",
    "Скрипт для преобразования исходных данных из 1C\n",
    "'''\n",
    "# импортируем библиотеки\n",
    "import pandas as pd\n",
    "import numpy as np\n",
    "import os\n",
    "import shutil\n",
    "import pathlib\n",
    "from openpyxl import load_workbook\n",
    "from openpyxl.worksheet.table import Table, TableStyleInfo\n",
    "from datetime import datetime, timedelta"
   ]
  },
  {
   "cell_type": "code",
   "execution_count": null,
   "id": "88c529e2",
   "metadata": {},
   "outputs": [],
   "source": [
    "date_formats = ['%d.%m.%Y %H:%M:%S', '%m/%d/%Y %I:%M:%S %p'] # форматы дат\n",
    "\n",
    "# функция для проверки формата строки\n",
    "def check_format(row):\n",
    "    for f in date_formats:\n",
    "        try:\n",
    "            pd.to_datetime(row, format=f)\n",
    "            return row\n",
    "        except ValueError:\n",
    "            pass\n",
    "    return np.nan"
   ]
  },
  {
   "cell_type": "code",
   "execution_count": null,
   "id": "f7440f39",
   "metadata": {},
   "outputs": [],
   "source": [
    "# инвертированная функция для проверки формата строки\n",
    "def check_format_inv(row):\n",
    "    for f in date_formats:\n",
    "        try:\n",
    "            pd.to_datetime(row, format=f)\n",
    "            return np.nan\n",
    "        except ValueError:\n",
    "            pass\n",
    "    return row"
   ]
  },
  {
   "cell_type": "code",
   "execution_count": null,
   "id": "fba2d76f",
   "metadata": {},
   "outputs": [],
   "source": [
    "# функция для определения счёта\n",
    "def check_format_digit(row):\n",
    "    try:\n",
    "        if row[0].isdigit() is True:\n",
    "            return row\n",
    "        else:\n",
    "            return np.nan\n",
    "    except TypeError:\n",
    "        return np.nan"
   ]
  },
  {
   "cell_type": "code",
   "execution_count": null,
   "id": "7145319d",
   "metadata": {},
   "outputs": [],
   "source": [
    "# функция для определения организации\n",
    "def check_format_digit_inv(row):\n",
    "    try:\n",
    "        if row[0].isdigit() is False:\n",
    "            return row\n",
    "        else:\n",
    "            return np.nan\n",
    "    except TypeError:\n",
    "        return np.nan"
   ]
  },
  {
   "cell_type": "code",
   "execution_count": null,
   "id": "da0075ef",
   "metadata": {},
   "outputs": [],
   "source": [
    "# запишем путь к папке с исходными данными в переменную\n",
    "source = pathlib.Path(os.getcwd().replace('Fin_Flow', os.path.join('YandexDisk', 'Fin_Flow')).replace('Scripts', 'Source data'))"
   ]
  },
  {
   "cell_type": "code",
   "execution_count": null,
   "id": "a7236c2a",
   "metadata": {},
   "outputs": [],
   "source": [
    "# создадим списки с названиями всех необходимых файлов в папке с исходными данными\n",
    "source_osv_name = [raw_data for raw_data in os.listdir(source) if 'ОСВ 50-51' in raw_data and\n",
    "                   raw_data.endswith('.xlsx')]\n",
    "\n",
    "print(source_osv_name)"
   ]
  },
  {
   "cell_type": "code",
   "execution_count": null,
   "id": "05fe812e",
   "metadata": {},
   "outputs": [],
   "source": [
    "osv_51 = {raw_data: pd.read_excel(os.path.join(source, f'{raw_data}')) for raw_data in source_osv_name}"
   ]
  },
  {
   "cell_type": "code",
   "execution_count": null,
   "id": "de7059b3",
   "metadata": {},
   "outputs": [],
   "source": [
    "osv_51 = {i[0]: i[1].drop([0,1,2,3]) for i in osv_51.items()}"
   ]
  },
  {
   "cell_type": "code",
   "execution_count": null,
   "id": "6f9474e9",
   "metadata": {},
   "outputs": [],
   "source": [
    "osv_51 = {i[0]: i[1].drop(columns=['Unnamed: 3', 'Unnamed: 7']) for i in osv_51.items()}"
   ]
  },
  {
   "cell_type": "code",
   "execution_count": null,
   "id": "80e3aedd",
   "metadata": {},
   "outputs": [],
   "source": [
    "for i in osv_51.values():\n",
    "    i['Дата'] = i['Счет'].apply(check_format)"
   ]
  },
  {
   "cell_type": "code",
   "execution_count": null,
   "id": "243e51f6",
   "metadata": {},
   "outputs": [],
   "source": [
    "for i in osv_51.values():\n",
    "    i['Организация (доп)'] = i['Счет'].apply(check_format_inv)"
   ]
  },
  {
   "cell_type": "code",
   "execution_count": null,
   "id": "c5de48a5",
   "metadata": {},
   "outputs": [],
   "source": [
    "for i in osv_51.values():\n",
    "    i['Счет'] = i['Организация (доп)']"
   ]
  },
  {
   "cell_type": "code",
   "execution_count": null,
   "id": "4ecf923b",
   "metadata": {},
   "outputs": [],
   "source": [
    "for i in osv_51.values():\n",
    "    i['Организация (доп)'] = i['Счет'].apply(check_format_digit_inv)"
   ]
  },
  {
   "cell_type": "code",
   "execution_count": null,
   "id": "e2b57ec4",
   "metadata": {},
   "outputs": [],
   "source": [
    "for i in osv_51.values():\n",
    "    i['Счет'] = i['Счет'].apply(check_format_digit)"
   ]
  },
  {
   "cell_type": "code",
   "execution_count": null,
   "id": "4d4880ef",
   "metadata": {},
   "outputs": [],
   "source": [
    "for i in osv_51.values():\n",
    "    i.columns = ['Счет',\n",
    "                 'Банковский счет',\n",
    "                 'Начальный остаток',\n",
    "                 'Поступление',\n",
    "                 'Списание',\n",
    "                 'Конечный остаток',\n",
    "                 'Дата',\n",
    "                 'Организация']"
   ]
  },
  {
   "cell_type": "code",
   "execution_count": null,
   "id": "66eb4057",
   "metadata": {},
   "outputs": [],
   "source": [
    "# словарь с именами столбцов и типами данных\n",
    "type_of_columns = {'Счет': 'object',\n",
    "                   'Банковский счет': 'object',\n",
    "                   'Начальный остаток': 'float64', \n",
    "                   'Поступление': 'float64',\n",
    "                   'Списание': 'float64',\n",
    "                   'Конечный остаток': 'float64',\n",
    "                   'Организация': 'object'}"
   ]
  },
  {
   "cell_type": "code",
   "execution_count": null,
   "id": "2c209f7e",
   "metadata": {},
   "outputs": [],
   "source": [
    "# подготовим строки для преобразования их в числовые значения\n",
    "for i in osv_51.values():\n",
    "    i['Начальный остаток'] = i['Начальный остаток'].apply(lambda row: str(row).replace(',', '.').replace(' ', '')\n",
    "                                                          if pd.notna(row)\n",
    "                                                          else row)\n",
    "    i['Поступление'] = i['Поступление'].apply(lambda row: str(row).replace(',', '.').replace(' ', '')\n",
    "                                              if pd.notna(row)\n",
    "                                              else row)\n",
    "    i['Списание'] = i['Списание'].apply(lambda row: str(row).replace(',', '.').replace(' ', '')\n",
    "                                        if pd.notna(row)\n",
    "                                        else row)\n",
    "    i['Конечный остаток'] = i['Конечный остаток'].apply(lambda row: str(row).replace(',', '.').replace(' ', '')\n",
    "                                                        if pd.notna(row)\n",
    "                                                        else row)"
   ]
  },
  {
   "cell_type": "code",
   "execution_count": null,
   "id": "c1cbb33b",
   "metadata": {},
   "outputs": [],
   "source": [
    "# изменим тип данных в каждом датафрейме в соответствии со словарём 'type_of_columns'\n",
    "osv_51 = {i[0]: i[1].astype(type_of_columns) for i in osv_51.items()}"
   ]
  },
  {
   "cell_type": "code",
   "execution_count": null,
   "id": "7bcfdb78",
   "metadata": {},
   "outputs": [],
   "source": [
    "# заполним пропущенные значения в столбцах значениями предыдущей заполненной ячейки по строкам\n",
    "for i in osv_51.values():\n",
    "    i['Счет'] = i['Счет'].fillna(method='ffill', axis=0)\n",
    "    i['Организация'] = i.groupby('Счет')['Организация'].fillna(method='ffill', axis=0)\n",
    "    i['Банковский счет'] = i.groupby('Счет')['Банковский счет'].fillna(method='ffill', axis=0)"
   ]
  },
  {
   "cell_type": "code",
   "execution_count": null,
   "id": "d77072d0",
   "metadata": {},
   "outputs": [],
   "source": [
    "for i in osv_51.values():\n",
    "    i.dropna(subset=['Дата'], inplace=True)"
   ]
  },
  {
   "cell_type": "code",
   "execution_count": null,
   "id": "daccf6c2",
   "metadata": {},
   "outputs": [],
   "source": [
    "# преобразуем строки в даты, используя один из форматов\n",
    "for i in osv_51.values():\n",
    "    i['Дата'] = i['Дата'].apply(lambda row: pd.to_datetime(row, format=next((f for f in date_formats if pd.to_datetime(row, format=f, errors='coerce') is not pd.NaT), None)))"
   ]
  },
  {
   "cell_type": "code",
   "execution_count": null,
   "id": "8b7541c2",
   "metadata": {},
   "outputs": [],
   "source": [
    "# оставим только строки со счётом 51\n",
    "osv_51 = {i[0]: i[1][i[1]['Счет'] == '51'] for i in osv_51.items()}"
   ]
  },
  {
   "cell_type": "code",
   "execution_count": null,
   "id": "2948bebc",
   "metadata": {},
   "outputs": [],
   "source": [
    "# исключим пустые датафреймы\n",
    "osv_51 = {i[0]: i[1] for i in osv_51.items() if not i[1].empty}"
   ]
  },
  {
   "cell_type": "code",
   "execution_count": null,
   "id": "5e7e476a",
   "metadata": {},
   "outputs": [],
   "source": [
    "for i in osv_51.values():\n",
    "    i['Банковский счет'] = i['Банковский счет'].fillna('-')"
   ]
  },
  {
   "cell_type": "code",
   "execution_count": null,
   "id": "f28e2ce7",
   "metadata": {},
   "outputs": [],
   "source": [
    "# сгруппируем счета\n",
    "osv_51 = {i[0]: i[1].groupby(['Организация',\n",
    "                              'Банковский счет',\n",
    "                              'Дата'], as_index=False)[['Начальный остаток',\n",
    "                                                        'Поступление',\n",
    "                                                        'Списание',\n",
    "                                                        'Конечный остаток']].sum() for i in osv_51.items()}"
   ]
  },
  {
   "cell_type": "code",
   "execution_count": null,
   "id": "a1b87db7",
   "metadata": {},
   "outputs": [],
   "source": [
    "for i in osv_51.values():\n",
    "    i['Начальный остаток'] = i['Начальный остаток'].fillna(0)\n",
    "    i['Поступление'] = i['Поступление'].fillna(0)\n",
    "    i['Списание'] = i['Списание'].fillna(0)\n",
    "    i['Конечный остаток'] = i['Конечный остаток'].fillna(0)"
   ]
  },
  {
   "cell_type": "code",
   "execution_count": null,
   "id": "343ac81a",
   "metadata": {},
   "outputs": [],
   "source": [
    "# создадим словарь, где ключ - название группы компаний, а значение - список таблиц по всем компаниям группы\n",
    "osv_51_groups = {}\n",
    "\n",
    "for key, value in osv_51.items():\n",
    "    group = key.split('(')[1].split(')')[0]\n",
    "    if group in osv_51_groups:\n",
    "        osv_51_groups[group].append(value)\n",
    "    else:\n",
    "        osv_51_groups[group] = [value]"
   ]
  },
  {
   "cell_type": "code",
   "execution_count": null,
   "id": "6bdbcc06",
   "metadata": {},
   "outputs": [],
   "source": [
    "# создадим новый словарь с объединёнными таблицами\n",
    "osv_51_merged = {f'ОСВ 51_{i[0]}.xlsx': pd.concat(i[1], axis=0).reset_index(inplace=False, drop=True)\n",
    "                 for i in osv_51_groups.items()}"
   ]
  },
  {
   "cell_type": "code",
   "execution_count": null,
   "id": "f594bbfd",
   "metadata": {},
   "outputs": [],
   "source": [
    "# определим последнюю дату по всем датафреймам группы компаний, чтобы продлить датафреймы с более ранними последними датами до самой поздней даты\n",
    "last_date = {i[0]: i[1].sort_values(by='Дата')['Дата'].iloc[-1] for i in osv_51_merged.items()}"
   ]
  },
  {
   "cell_type": "code",
   "execution_count": null,
   "id": "24252351",
   "metadata": {},
   "outputs": [],
   "source": [
    "# создадим словарь со строками на последнюю дату из датафреймов, которые нужно продлить\n",
    "osv_51_new_rows = {i[0]: i[1][i[1]['Дата'] == i[1]['Дата'].max()].copy() for i in osv_51.items()}"
   ]
  },
  {
   "cell_type": "code",
   "execution_count": null,
   "id": "6a0c1f20",
   "metadata": {},
   "outputs": [],
   "source": [
    "# очистим датафреймы, которые не нужно продлять\n",
    "osv_51_new_rows = {i[0]: i[1].iloc[0:0] if i[1]['Дата'].max() == last_date[f'ОСВ 51_{i[0].split(\"(\")[1].split(\")\")[0]}.xlsx'] else i[1] for i in osv_51_new_rows.items()}"
   ]
  },
  {
   "cell_type": "code",
   "execution_count": null,
   "id": "d0429bb1",
   "metadata": {},
   "outputs": [],
   "source": [
    "# изменим добавляемые строки\n",
    "for i in osv_51_new_rows.items():\n",
    "    i[1]['Поступление'] = 0\n",
    "    i[1]['Списание'] = 0\n",
    "    i[1]['Дата'] = last_date[f'ОСВ 51_{i[0].split(\"(\")[1].split(\")\")[0]}.xlsx']"
   ]
  },
  {
   "cell_type": "code",
   "execution_count": null,
   "id": "4e3d2fe0",
   "metadata": {},
   "outputs": [],
   "source": [
    "# добавим новые строки в датафреймы\n",
    "osv_51 = {i[0]: pd.concat([i[1], osv_51_new_rows[i[0]]]) for i in osv_51.items()}"
   ]
  },
  {
   "cell_type": "code",
   "execution_count": null,
   "id": "9af24c14",
   "metadata": {},
   "outputs": [],
   "source": [
    "# создадим столбцы для добавления новых данных по остаткам на расчётных счетах\n",
    "for i in osv_51.values():\n",
    "    i['Разница'] = i.groupby(['Организация', 'Банковский счет'])['Дата'].diff()"
   ]
  },
  {
   "cell_type": "code",
   "execution_count": null,
   "id": "fdfaf92a",
   "metadata": {},
   "outputs": [],
   "source": [
    "# добавим промежуточные значения по остаткам на банковских счетах, используя диапазоны дат\n",
    "for i in osv_51.values():\n",
    "    i['Начальная дата'] = i['Дата'] - i['Разница'] + timedelta(days=1)\n",
    "    i['Конечная дата'] = i['Дата']\n",
    "    i['Дата'] = i.apply(lambda row: pd.date_range(start=row['Начальная дата'],\n",
    "                                                  end=row['Конечная дата']).tolist()\n",
    "                        if pd.notna(row['Начальная дата'])\n",
    "                        else row['Дата'],\n",
    "                        axis=1)"
   ]
  },
  {
   "cell_type": "code",
   "execution_count": null,
   "id": "682fb89b",
   "metadata": {},
   "outputs": [],
   "source": [
    "# добавим новые строки с датами\n",
    "osv_51 = {i[0]: i[1].explode('Дата') for i in osv_51.items()} "
   ]
  },
  {
   "cell_type": "code",
   "execution_count": null,
   "id": "7bfacb79",
   "metadata": {},
   "outputs": [],
   "source": [
    "for i in osv_51.values():\n",
    "    i['Поступление'] = i.apply(lambda row: 0 if row['Дата'] != row['Конечная дата'] else row['Поступление'],\n",
    "                               axis=1)\n",
    "    i['Списание'] = i.apply(lambda row: 0 if row['Дата'] != row['Конечная дата'] else row['Списание'],\n",
    "                            axis=1)"
   ]
  },
  {
   "cell_type": "code",
   "execution_count": null,
   "id": "823e6a25",
   "metadata": {},
   "outputs": [],
   "source": [
    "osv_51 = {i[0]: i[1].drop(columns=['Разница',\n",
    "                                   'Начальная дата',\n",
    "                                   'Конечная дата'])\n",
    "          for i in osv_51.items()}"
   ]
  },
  {
   "cell_type": "code",
   "execution_count": null,
   "id": "006d0a73",
   "metadata": {},
   "outputs": [],
   "source": [
    "# создадим словарь для добавления промежуточных значений по остаткам на банковских счетах, используя данные по остаткам на дату накопительным итогом\n",
    "# сгруппируем до уровня дат и получим уникальные значения банковских счетов для каждой даты\n",
    "osv_51_values = {i[0]: i[1].groupby(['Организация', 'Дата'], as_index=False)['Банковский счет'].unique() for i in osv_51.items()} "
   ]
  },
  {
   "cell_type": "code",
   "execution_count": null,
   "id": "1445dfb8",
   "metadata": {},
   "outputs": [],
   "source": [
    "# отсортируем датафреймы по дате\n",
    "osv_51_values = {i[0]: i[1].groupby(['Организация'], as_index=False).apply(lambda row: row.sort_values('Дата')) for i in osv_51_values.items()} "
   ]
  },
  {
   "cell_type": "code",
   "execution_count": null,
   "id": "a82fe849",
   "metadata": {},
   "outputs": [],
   "source": [
    "# присвоим индексы\n",
    "osv_51_values = {i[0]: i[1].groupby(['Организация'], as_index=False).apply(lambda row: row.reset_index(drop=True)) for i in osv_51_values.items()}"
   ]
  },
  {
   "cell_type": "code",
   "execution_count": null,
   "id": "244262d4",
   "metadata": {},
   "outputs": [],
   "source": [
    "# добавим на каждую дату список из списков уникальных банковских счетов накопительным итогом\n",
    "grouped_dict = {}\n",
    "for key, value in osv_51_values.items():\n",
    "    group_list = []\n",
    "    for name, group in value.groupby(level=0):\n",
    "        group['Банковский счет (доп)'] = group.index.map(lambda row: group.loc[:row, 'Банковский счет'].tolist())\n",
    "        group['Банковский счет (доп)'] = group['Банковский счет (доп)'].apply(lambda row: set([x for sublist in row for x in sublist]))\n",
    "        group_list.append(group)\n",
    "    table = pd.concat(group_list, axis=0)\n",
    "    grouped_dict[key] = table"
   ]
  },
  {
   "cell_type": "code",
   "execution_count": null,
   "id": "223161e4",
   "metadata": {},
   "outputs": [],
   "source": [
    "osv_51_values = grouped_dict"
   ]
  },
  {
   "cell_type": "code",
   "execution_count": null,
   "id": "49cac4f4",
   "metadata": {},
   "outputs": [],
   "source": [
    "# добавим новые строки с банковскими счетами\n",
    "osv_51_values = {i[0]: i[1].explode('Банковский счет (доп)') for i in osv_51_values.items()} "
   ]
  },
  {
   "cell_type": "code",
   "execution_count": null,
   "id": "cc5592e9",
   "metadata": {},
   "outputs": [],
   "source": [
    "for i in osv_51_values.values():\n",
    "    i['Банковский счет'] = i['Банковский счет (доп)']\n",
    "    i['Начальный остаток'] = 0.0\n",
    "    i['Поступление'] = 0.0\n",
    "    i['Списание'] = 0.0\n",
    "    i['Конечный остаток'] = 0.0"
   ]
  },
  {
   "cell_type": "code",
   "execution_count": null,
   "id": "ac75a9db",
   "metadata": {},
   "outputs": [],
   "source": [
    "osv_51_values = {i[0]: i[1].drop(columns=['Банковский счет (доп)'])\n",
    "                 for i in osv_51_values.items()}"
   ]
  },
  {
   "cell_type": "code",
   "execution_count": null,
   "id": "cf8b1b99",
   "metadata": {},
   "outputs": [],
   "source": [
    "osv_51 = {i[0]: pd.concat([i[1], osv_51_values[i[0]]]) for i in osv_51.items()}"
   ]
  },
  {
   "cell_type": "code",
   "execution_count": null,
   "id": "047395c3",
   "metadata": {},
   "outputs": [],
   "source": [
    "osv_51 = {i[0]: i[1].sort_values(by='Дата').groupby(['Организация',\n",
    "                                                     'Банковский счет',\n",
    "                                                     'Дата'],\n",
    "                                                    as_index=False)[['Начальный остаток',\n",
    "                                                                     'Поступление',\n",
    "                                                                     'Списание',\n",
    "                                                                     'Конечный остаток']].sum() for i in osv_51.items()}"
   ]
  },
  {
   "cell_type": "code",
   "execution_count": null,
   "id": "9db3576e",
   "metadata": {},
   "outputs": [],
   "source": [
    "for i in osv_51.values():\n",
    "    i['Начальный остаток'] = 0.0\n",
    "    i['Конечный остаток'] = 0.0\n",
    "    i['Изменение'] = i['Поступление'] - i['Списание']"
   ]
  },
  {
   "cell_type": "code",
   "execution_count": null,
   "id": "3ff5bac8",
   "metadata": {},
   "outputs": [],
   "source": [
    "# создадим новые таблицы для расчёта остатков\n",
    "osv_51_grouped = {i[0]: i[1].sort_values(by='Дата').groupby(['Организация',\n",
    "                                                             'Банковский счет',\n",
    "                                                             'Дата'], as_index=False)['Изменение'].sum() for i in osv_51.items()}"
   ]
  },
  {
   "cell_type": "code",
   "execution_count": null,
   "id": "996ceda9",
   "metadata": {},
   "outputs": [],
   "source": [
    "grouped_dict = {}\n",
    "for key, value in osv_51_grouped.items():\n",
    "    # применение операций shift и cumsum к каждой организации отдельно\n",
    "    group_list = []\n",
    "    for name, group in value.groupby(['Организация', 'Банковский счет']):\n",
    "        group['Начальный остаток'] = group['Изменение'].shift(fill_value=0).cumsum()\n",
    "        group['Конечный остаток'] = group['Начальный остаток'] + group['Изменение']\n",
    "        group_list.append(group)\n",
    "    table = pd.concat(group_list, axis=0)\n",
    "    grouped_dict[key] = table"
   ]
  },
  {
   "cell_type": "code",
   "execution_count": null,
   "id": "0d75dd5b",
   "metadata": {},
   "outputs": [],
   "source": [
    "osv_51_grouped = grouped_dict"
   ]
  },
  {
   "cell_type": "code",
   "execution_count": null,
   "id": "7c10a9cd",
   "metadata": {},
   "outputs": [],
   "source": [
    "merged_dict = {}\n",
    "# объединим словарь с таблицами для расчёта начального и конечного остатков\n",
    "for key, table1 in osv_51.items():\n",
    "    table2 = osv_51_grouped.get(key)\n",
    "    merged_table = pd.merge(table1, table2, on=['Организация',\n",
    "                                                'Банковский счет',\n",
    "                                                'Дата'],\n",
    "                            how='left',\n",
    "                            suffixes=('', '_new'))\n",
    "    merged_dict[key] = merged_table"
   ]
  },
  {
   "cell_type": "code",
   "execution_count": null,
   "id": "291fd83f",
   "metadata": {},
   "outputs": [],
   "source": [
    "osv_51 = merged_dict"
   ]
  },
  {
   "cell_type": "code",
   "execution_count": null,
   "id": "c24b0ebc",
   "metadata": {},
   "outputs": [],
   "source": [
    "for i in osv_51.values():\n",
    "    i['Начальный остаток'] = i['Начальный остаток_new']\n",
    "    i['Конечный остаток'] = i['Конечный остаток_new']"
   ]
  },
  {
   "cell_type": "code",
   "execution_count": null,
   "id": "674e1f2f",
   "metadata": {},
   "outputs": [],
   "source": [
    "# удалим лишние столбцы\n",
    "osv_51 = {i[0]: i[1].iloc[:, :-3] for i in osv_51.items()}"
   ]
  },
  {
   "cell_type": "code",
   "execution_count": null,
   "id": "b3aca990",
   "metadata": {},
   "outputs": [],
   "source": [
    "osv_51 = {i[0]: i[1].reset_index(drop=True) for i in osv_51.items()}"
   ]
  },
  {
   "cell_type": "code",
   "execution_count": null,
   "id": "5244c74e",
   "metadata": {},
   "outputs": [],
   "source": [
    "# создадим словарь, где ключ - название группы компаний, а значение - список таблиц по всем компаниям группы\n",
    "osv_51_groups = {}\n",
    "\n",
    "for key, value in osv_51.items():\n",
    "    group = key.split('(')[1].split(')')[0]\n",
    "    if group in osv_51_groups:\n",
    "        osv_51_groups[group].append(value)\n",
    "    else:\n",
    "        osv_51_groups[group] = [value]"
   ]
  },
  {
   "cell_type": "code",
   "execution_count": null,
   "id": "a4035cc1",
   "metadata": {},
   "outputs": [],
   "source": [
    "# создадим новый словарь с объединёнными таблицами\n",
    "osv_51_merged = {f'ОСВ 51_{i[0]}.xlsx': pd.concat(i[1], axis=0).reset_index(inplace=False, drop=True)\n",
    "                 for i in osv_51_groups.items()}"
   ]
  },
  {
   "cell_type": "code",
   "execution_count": null,
   "id": "4dffc6b6",
   "metadata": {
    "scrolled": true
   },
   "outputs": [],
   "source": [
    "for i in osv_51_merged.items():\n",
    "    print(f'{i[0]}:')\n",
    "    print(i[1].info(show_counts=True))\n",
    "    print()"
   ]
  },
  {
   "cell_type": "code",
   "execution_count": null,
   "id": "1f293e7a",
   "metadata": {},
   "outputs": [],
   "source": [
    "'''\n",
    "Цикл, который перезаписывает каждый файл из 'osv_51_merged', чтобы сохранить внесённые ранее изменения в его структуру\n",
    "'''\n",
    "for i in osv_51_merged.items():\n",
    "    i[1].to_csv(os.path.join(source, i[0].replace('xlsx', 'csv')),\n",
    "                header=True,\n",
    "                index=False)"
   ]
  },
  {
   "cell_type": "code",
   "execution_count": null,
   "id": "40756f8a",
   "metadata": {},
   "outputs": [],
   "source": [
    "# путь для сохранения исходных данных\n",
    "path_to_save = pathlib.Path(os.getcwd().replace('Scripts', 'Data'))"
   ]
  },
  {
   "cell_type": "code",
   "execution_count": null,
   "id": "e49d3fcb",
   "metadata": {},
   "outputs": [],
   "source": [
    "# создадим словарь с расположением новых папок по группам компаний\n",
    "folder_location = {i: os.path.join(path_to_save) for i in osv_51_merged.keys()}"
   ]
  },
  {
   "cell_type": "code",
   "execution_count": null,
   "id": "681be05f",
   "metadata": {},
   "outputs": [],
   "source": [
    "# создаются только те папки, которые до этого не существовали\n",
    "for i in folder_location.items():\n",
    "    if not os.path.exists(i[1]):\n",
    "        os.makedirs(i[1])"
   ]
  },
  {
   "cell_type": "code",
   "execution_count": null,
   "id": "26376e88",
   "metadata": {},
   "outputs": [],
   "source": [
    "# цикл, который копирует каждый файл из 'osv_51_merged' в новую папку\n",
    "for i in folder_location.items():\n",
    "    shutil.copy(os.path.join(source, i[0].replace('xlsx', 'csv')), i[1])\n",
    "    # удалим исходные данные с расширением .csv из первоначальной папки\n",
    "    os.remove(os.path.join(source, i[0].replace('xlsx', 'csv')))"
   ]
  },
  {
   "cell_type": "code",
   "execution_count": null,
   "id": "683e83a0",
   "metadata": {},
   "outputs": [],
   "source": [
    "# удалим исходные данные с расширением .xlsx из первоначальной папки\n",
    "for i in source_osv_name:\n",
    "    os.remove(os.path.join(source, i))"
   ]
  }
 ],
 "metadata": {
  "kernelspec": {
   "display_name": "Python 3 (ipykernel)",
   "language": "python",
   "name": "python3"
  },
  "language_info": {
   "codemirror_mode": {
    "name": "ipython",
    "version": 3
   },
   "file_extension": ".py",
   "mimetype": "text/x-python",
   "name": "python",
   "nbconvert_exporter": "python",
   "pygments_lexer": "ipython3",
   "version": "3.11.5"
  }
 },
 "nbformat": 4,
 "nbformat_minor": 5
}
