{
 "cells": [
  {
   "cell_type": "markdown",
   "id": "2974f104",
   "metadata": {},
   "source": [
    "## Обработка банковских выписок и ОСВ по счету 50 \"Касса\""
   ]
  },
  {
   "cell_type": "code",
   "execution_count": null,
   "id": "39a3d4e7",
   "metadata": {
    "scrolled": true
   },
   "outputs": [],
   "source": [
    "'''\n",
    "Скрипт для преобразования исходных данных из 1C\n",
    "'''\n",
    "# импортируем библиотеки\n",
    "import pandas as pd\n",
    "import numpy as np\n",
    "import os\n",
    "import shutil\n",
    "import pathlib\n",
    "from openpyxl import load_workbook\n",
    "from openpyxl.worksheet.table import Table, TableStyleInfo\n",
    "from datetime import datetime, timedelta"
   ]
  },
  {
   "cell_type": "code",
   "execution_count": null,
   "id": "8a3adafc",
   "metadata": {},
   "outputs": [],
   "source": [
    "from osv_50 import osv_50"
   ]
  },
  {
   "cell_type": "code",
   "execution_count": null,
   "id": "baf41936",
   "metadata": {},
   "outputs": [],
   "source": [
    "# запишем путь к папке с исходными данными в переменную\n",
    "source_bank_statements = pathlib.Path(os.getcwd().replace('Fin_Flow', os.path.join('YandexDisk', 'Fin_Flow')).replace('Scripts', 'Source data'))\n",
    "source_cash_flow_dict = pathlib.Path(os.getcwd().replace('Fin_Flow',os.path.join('YandexDisk', 'Fin_Flow')).replace('Scripts', 'Source data'),\n",
    "                                     'Cash flow items 1C')"
   ]
  },
  {
   "cell_type": "code",
   "execution_count": null,
   "id": "f5ab60bf",
   "metadata": {},
   "outputs": [],
   "source": [
    "# создадим списки с названиями всех необходимых файлов в папке с исходными данными\n",
    "bank_statements_name = [raw_data for raw_data in os.listdir(source_bank_statements) if 'Банковские выписки' in raw_data and\n",
    "                        raw_data.endswith('.xlsx')]\n",
    "\n",
    "cash_flow_dict_name = [raw_data for raw_data in os.listdir(source_cash_flow_dict) if 'Статьи движения денежных средств' in raw_data and\n",
    "                       raw_data.endswith('.xlsx')]\n",
    "\n",
    "print(bank_statements_name)\n",
    "print(cash_flow_dict_name)"
   ]
  },
  {
   "cell_type": "code",
   "execution_count": null,
   "id": "c39d238a",
   "metadata": {},
   "outputs": [],
   "source": [
    "bank_statements = {raw_data: pd.read_excel(os.path.join(source_bank_statements, f'{raw_data}')) for raw_data in bank_statements_name}\n",
    "cash_flow_dict = {raw_data: pd.read_excel(os.path.join(source_cash_flow_dict, f'{raw_data}')) for raw_data in cash_flow_dict_name}"
   ]
  },
  {
   "cell_type": "code",
   "execution_count": null,
   "id": "053c8d7b",
   "metadata": {},
   "outputs": [],
   "source": [
    "# словарь с именами столбцов и типами данных\n",
    "type_of_columns = {'Вид операции': 'object',\n",
    "                   'Статья движения денежных средств': 'object',\n",
    "                   'Вид движения': 'object', \n",
    "                   'Группа статей': 'object',\n",
    "                   'Операция': 'object',}"
   ]
  },
  {
   "cell_type": "code",
   "execution_count": null,
   "id": "a5d40825",
   "metadata": {},
   "outputs": [],
   "source": [
    "# изменим тип данных в каждом датафрейме в соответствии со словарём 'type_of_columns'\n",
    "cash_flow_dict = {i[0]: i[1].astype(type_of_columns) for i in cash_flow_dict.items()}"
   ]
  },
  {
   "cell_type": "code",
   "execution_count": null,
   "id": "d3761e25",
   "metadata": {},
   "outputs": [],
   "source": [
    "# словарь с именами столбцов и типами данных\n",
    "type_of_columns = {'Поступление': 'float64',\n",
    "                   'Списание': 'float64',\n",
    "                   'Назначение платежа': 'object', \n",
    "                   'Контрагент': 'object',\n",
    "                   'ИНН': 'object',\n",
    "                   'Вид операции': 'object',\n",
    "                   'Организация': 'object',\n",
    "                   'Банковский счет': 'object'}"
   ]
  },
  {
   "cell_type": "code",
   "execution_count": null,
   "id": "68b591ca",
   "metadata": {},
   "outputs": [],
   "source": [
    "# подготовим строки для преобразования их в числовые значения\n",
    "for i in bank_statements.values():\n",
    "    i['Поступление'] = i['Поступление'].apply(lambda row: str(row).replace(',', '.').replace(' ', '')\n",
    "                                              if pd.notna(row)\n",
    "                                              else row)\n",
    "    i['Списание'] = i['Списание'].apply(lambda row: str(row).replace(',', '.').replace(' ', '')\n",
    "                                        if pd.notna(row)\n",
    "                                        else row)\n",
    "    i['ИНН'] = i['ИНН'].apply(lambda row: str(row).replace('.0', '')\n",
    "                              if pd.notna(row)\n",
    "                              else row)"
   ]
  },
  {
   "cell_type": "code",
   "execution_count": null,
   "id": "19d7e27e",
   "metadata": {},
   "outputs": [],
   "source": [
    "# изменим тип данных в каждом датафрейме в соответствии со словарём 'type_of_columns'\n",
    "bank_statements = {i[0]: i[1].astype(type_of_columns) for i in bank_statements.items()}"
   ]
  },
  {
   "cell_type": "code",
   "execution_count": null,
   "id": "fbadce6d",
   "metadata": {},
   "outputs": [],
   "source": [
    "date_formats = ['%d.%m.%Y', '%m/%d/%Y'] # форматы дат\n",
    "# преобразуем строки в даты, используя один из форматов\n",
    "for i in bank_statements.values():\n",
    "    i['Дата'] = i['Дата'].apply(lambda row: pd.to_datetime(row, format=next((f for f in date_formats if pd.to_datetime(row, format=f, errors='coerce') is not pd.NaT), None)))"
   ]
  },
  {
   "cell_type": "code",
   "execution_count": null,
   "id": "26bec150",
   "metadata": {},
   "outputs": [],
   "source": [
    "# исключим пустые датафреймы\n",
    "bank_statements = {i[0]: i[1] for i in bank_statements.items() if not i[1].empty}"
   ]
  },
  {
   "cell_type": "code",
   "execution_count": null,
   "id": "5d8dbac5",
   "metadata": {},
   "outputs": [],
   "source": [
    "for i in bank_statements.values():\n",
    "    i['Контрагент'] = i.apply(lambda row: f\"{row['Контрагент']} (ИНН: {row['ИНН']})\"\n",
    "                              if pd.notna(row['ИНН'])\n",
    "                              else row['Контрагент'],\n",
    "                              axis=1)"
   ]
  },
  {
   "cell_type": "code",
   "execution_count": null,
   "id": "bd0b789f",
   "metadata": {},
   "outputs": [],
   "source": [
    "# оставим только нужные столбцы\n",
    "bank_statements = {i[0]: i[1][['Дата',\n",
    "                               'Поступление',\n",
    "                               'Списание',\n",
    "                               'Назначение платежа',\n",
    "                               'Контрагент',\n",
    "                               'Вид операции',\n",
    "                               'Банковский счет',\n",
    "                               'Организация']]  \n",
    "                   for i in bank_statements.items()}"
   ]
  },
  {
   "cell_type": "code",
   "execution_count": null,
   "id": "0c0a9ebe",
   "metadata": {},
   "outputs": [],
   "source": [
    "for i in bank_statements.values():\n",
    "    i['Тип операции'] = i['Поступление'].apply(lambda row: 'Списание' if np.isnan(row) else 'Поступление')"
   ]
  },
  {
   "cell_type": "code",
   "execution_count": null,
   "id": "19569f08",
   "metadata": {},
   "outputs": [],
   "source": [
    "# объединим банковские выписки со словарями\n",
    "bank_statements = {i[0]: pd.concat([pd.merge(i[1].query('`Тип операции` == \"Поступление\"'),\n",
    "                                             cash_flow_dict[f'({i[0].split(\"(\")[1].split(\")\")[0]})Статьи движения денежных средств_{i[0].split(\"_\")[-1].split(\".\")[0]}.xlsx'].query('Операция == \"Поступление\"'),\n",
    "                                             on='Вид операции',\n",
    "                                             how='left'),\n",
    "                                    pd.merge(i[1].query('`Тип операции` == \"Списание\"'),\n",
    "                                             cash_flow_dict[f'({i[0].split(\"(\")[1].split(\")\")[0]})Статьи движения денежных средств_{i[0].split(\"_\")[-1].split(\".\")[0]}.xlsx'].query('Операция == \"Списание\"'),\n",
    "                                             on='Вид операции',\n",
    "                                             how='left')])\n",
    "                   for i in bank_statements.items()}"
   ]
  },
  {
   "cell_type": "code",
   "execution_count": null,
   "id": "16e544a4",
   "metadata": {},
   "outputs": [],
   "source": [
    "for i in bank_statements.values():\n",
    "    i['Источник'] = 'Банк'"
   ]
  },
  {
   "cell_type": "code",
   "execution_count": null,
   "id": "b3b8cf84",
   "metadata": {},
   "outputs": [],
   "source": [
    "osv_50 = {i[0]: i[1].drop(columns=['Начальный остаток',\n",
    "                                   'Конечный остаток',\n",
    "                                   'Изменение'])\n",
    "          for i in osv_50.items()}"
   ]
  },
  {
   "cell_type": "code",
   "execution_count": null,
   "id": "6aed7841",
   "metadata": {},
   "outputs": [],
   "source": [
    "# удалим лишние значения в кассе\n",
    "osv_50 = {i[0]: i[1][(i[1]['Поступление'] != 0) | (i[1]['Списание'] != 0)]\n",
    "          for i in osv_50.items()}"
   ]
  },
  {
   "cell_type": "code",
   "execution_count": null,
   "id": "2b4e4144",
   "metadata": {},
   "outputs": [],
   "source": [
    "# создадим новый столбец, который будет содержать список из двух значений, в том случае если\n",
    "# одновременно в столбцах \"Поступление\" и \"Списание\" есть значения\n",
    "for i in osv_50.values():\n",
    "    i['Поступление/Списание'] = i.apply(lambda row: ['Поступление', 'Списание'] if row['Поступление'] != 0 and row['Списание'] != 0 else '', axis=1)\n",
    "\n",
    "# разделим строки, где \"Тип операции\" равен \"Поступление/Списание\"\n",
    "osv_50 = {i[0]: i[1].explode('Поступление/Списание') for i in osv_50.items()}\n",
    "\n",
    "for i in osv_50.values():\n",
    "    i['Поступление'] = i.apply(lambda row: 0 if row['Поступление/Списание'] == 'Списание' else row['Поступление'], axis=1)\n",
    "for i in osv_50.values():\n",
    "    i['Списание'] = i.apply(lambda row: 0 if row['Поступление/Списание'] == 'Поступление' else row['Списание'], axis=1)"
   ]
  },
  {
   "cell_type": "code",
   "execution_count": null,
   "id": "844f609c",
   "metadata": {},
   "outputs": [],
   "source": [
    "for i in osv_50.values():\n",
    "    i['Тип операции'] = i.apply(lambda row: 'Поступление' if row['Поступление'] != 0 else 'Списание', axis=1)"
   ]
  },
  {
   "cell_type": "code",
   "execution_count": null,
   "id": "0a0f64f8",
   "metadata": {},
   "outputs": [],
   "source": [
    "# сгруппируем счета\n",
    "osv_50 = {i[0]: i[1].groupby(['Организация',\n",
    "                              'Тип операции',\n",
    "                              'Статья движения денежных средств',\n",
    "                              'Дата'], as_index=False)[['Поступление',\n",
    "                                                        'Списание']].sum() for i in osv_50.items()}"
   ]
  },
  {
   "cell_type": "code",
   "execution_count": null,
   "id": "2f938cd7",
   "metadata": {},
   "outputs": [],
   "source": [
    "# объединим кассу со словарями\n",
    "osv_50 = {i[0]: pd.concat([pd.merge(i[1].query('`Тип операции` == \"Поступление\"'),\n",
    "                                    cash_flow_dict[f'({i[0].split(\"(\")[1].split(\")\")[0]})Статьи движения денежных средств_{i[0].split(\"_\")[-1].split(\".\")[0]}.xlsx'].query('Операция == \"Поступление\"').drop_duplicates(subset='Статья движения денежных средств'),\n",
    "                                    on='Статья движения денежных средств',\n",
    "                                    how='left'),\n",
    "                           pd.merge(i[1].query('`Тип операции` == \"Списание\"'),\n",
    "                                    cash_flow_dict[f'({i[0].split(\"(\")[1].split(\")\")[0]})Статьи движения денежных средств_{i[0].split(\"_\")[-1].split(\".\")[0]}.xlsx'].query('Операция == \"Списание\"').drop_duplicates(subset='Статья движения денежных средств'),\n",
    "                                    on='Статья движения денежных средств',\n",
    "                                    how='left')])\n",
    "          for i in osv_50.items()}"
   ]
  },
  {
   "cell_type": "code",
   "execution_count": null,
   "id": "e2550b16",
   "metadata": {},
   "outputs": [],
   "source": [
    "for i in osv_50.values():\n",
    "    i['Источник'] = 'Касса'"
   ]
  },
  {
   "cell_type": "code",
   "execution_count": null,
   "id": "5c10bf8d",
   "metadata": {},
   "outputs": [],
   "source": [
    "# объединим банковские выписки с кассой\n",
    "cash_flow = {i[0]: pd.concat([bank_statements[i[0]],\n",
    "                              osv_50[i[0].replace('Банковские выписки', 'ОСВ 50-51')]]).reset_index(drop=True)\n",
    "             for i in bank_statements.items()}"
   ]
  },
  {
   "cell_type": "code",
   "execution_count": null,
   "id": "1e1bb95b",
   "metadata": {},
   "outputs": [],
   "source": [
    "for i in cash_flow.values():\n",
    "    i['Поступление'] = i['Поступление'].fillna(0)\n",
    "    i['Списание'] = i['Списание'].fillna(0)"
   ]
  },
  {
   "cell_type": "code",
   "execution_count": null,
   "id": "94d3b3c2",
   "metadata": {},
   "outputs": [],
   "source": [
    "for i in cash_flow.values():\n",
    "    i['Сумма'] = i.apply(lambda row: row['Поступление'] + row['Списание'], axis=1)"
   ]
  },
  {
   "cell_type": "code",
   "execution_count": null,
   "id": "fc6e9d53",
   "metadata": {},
   "outputs": [],
   "source": [
    "for i in cash_flow.values():\n",
    "    i['Денежный поток'] = i.apply(lambda row: row['Сумма'] if row['Тип операции'] == 'Поступление' else - row['Сумма'], axis=1)\n",
    "    i['Денежный приток'] = i.apply(lambda row: row['Сумма'] if row['Тип операции'] == 'Поступление' else np.nan, axis=1)\n",
    "    i['Денежный отток'] = i.apply(lambda row: row['Сумма'] if row['Тип операции'] == 'Списание' else np.nan, axis=1)"
   ]
  },
  {
   "cell_type": "code",
   "execution_count": null,
   "id": "f60d4616",
   "metadata": {},
   "outputs": [],
   "source": [
    "# в кассе отсутствует данные значения\n",
    "for i in cash_flow.values():\n",
    "    i['Назначение платежа'] = i.apply(lambda row: 'Касса' if row['Источник'] == 'Касса' else row['Назначение платежа'], axis=1)\n",
    "    i['Контрагент'] = i.apply(lambda row: 'Касса' if row['Источник'] == 'Касса' else row['Контрагент'], axis=1)\n",
    "    i['Вид операции'] = i.apply(lambda row: 'Касса' if row['Источник'] == 'Касса' else row['Вид операции'], axis=1)\n",
    "    i['Банковский счет'] = i.apply(lambda row: 'Касса' if row['Источник'] == 'Касса' else row['Банковский счет'], axis=1)"
   ]
  },
  {
   "cell_type": "code",
   "execution_count": null,
   "id": "a2e868b8",
   "metadata": {},
   "outputs": [],
   "source": [
    "for i in cash_flow.values():\n",
    "    i['Назначение платежа'] = i['Назначение платежа'].fillna('-')\n",
    "    i['Контрагент'] = i['Контрагент'].fillna('-')\n",
    "    i['Вид операции'] = i['Вид операции'].fillna('-')\n",
    "    i['Банковский счет'] = i['Банковский счет'].fillna('-')\n",
    "    i['Статья движения денежных средств'] = i['Статья движения денежных средств'].fillna('-')\n",
    "    i['Вид движения'] = i['Вид движения'].fillna('-')\n",
    "    # если cash_flow_dict неактуален, то все неуказанные статьи движения денежных средств отнесём\n",
    "    # к неденежным операциям\n",
    "    i['Группа статей'] = i['Группа статей'].fillna('Неденежные операции')"
   ]
  },
  {
   "cell_type": "code",
   "execution_count": null,
   "id": "2bfe4637",
   "metadata": {},
   "outputs": [],
   "source": [
    "# добавим столбец, где будет указано, что данный контрагент в конкретную дату встречается впервые\n",
    "for i in cash_flow.values():\n",
    "    min_date = i.groupby(['Организация', 'Контрагент'])['Дата'].idxmin()\n",
    "    i['Новый контрагент'] = i['Дата'].eq(i.loc[min_date, 'Дата']).apply(lambda row: 'Да' if row else 'Нет')"
   ]
  },
  {
   "cell_type": "code",
   "execution_count": null,
   "id": "aa5f39b1",
   "metadata": {},
   "outputs": [],
   "source": [
    "for i in cash_flow.values():\n",
    "    i['Группа статей'] = i['Группа статей'].replace({'Текущие операции': 'Денежные потоки от текущих операций',\n",
    "                                                     'Инвестиционные операции': 'Денежные потоки от инвестиционных операций',\n",
    "                                                     'Финансовые операции': 'Денежные потоки от финансовых операций'})"
   ]
  },
  {
   "cell_type": "code",
   "execution_count": null,
   "id": "b174f84e",
   "metadata": {},
   "outputs": [],
   "source": [
    "cash_flow = {i[0]: i[1].drop(columns=['Поступление',\n",
    "                                      'Списание',\n",
    "                                      'Операция',\n",
    "                                      'Сумма'])\n",
    "             for i in cash_flow.items()}"
   ]
  },
  {
   "cell_type": "code",
   "execution_count": null,
   "id": "f2da28b0",
   "metadata": {},
   "outputs": [],
   "source": [
    "# создадим словарь, где ключ - название группы компаний, а значение - список таблиц по всем компаниям группы\n",
    "cash_flow_groups = {}\n",
    "\n",
    "for key, value in cash_flow.items():\n",
    "    group = key.split('(')[1].split(')')[0]\n",
    "    if group in cash_flow_groups:\n",
    "        cash_flow_groups[group].append(value)\n",
    "    else:\n",
    "        cash_flow_groups[group] = [value]"
   ]
  },
  {
   "cell_type": "code",
   "execution_count": null,
   "id": "fc0279a1",
   "metadata": {},
   "outputs": [],
   "source": [
    "# создадим новый словарь с объединёнными таблицами\n",
    "cash_flow_merged = {f'ОДДС_{i[0]}.xlsx': pd.concat(i[1], axis=0).reset_index(inplace=False, drop=True)\n",
    "                    for i in cash_flow_groups.items()}"
   ]
  },
  {
   "cell_type": "code",
   "execution_count": null,
   "id": "8d90d5c8",
   "metadata": {
    "scrolled": false
   },
   "outputs": [],
   "source": [
    "for i in cash_flow_merged.items():\n",
    "    print(f'{i[0]}:')\n",
    "    print(i[1].info(show_counts=True))\n",
    "    print()"
   ]
  },
  {
   "cell_type": "code",
   "execution_count": null,
   "id": "e11f4bc8",
   "metadata": {},
   "outputs": [],
   "source": [
    "'''\n",
    "Цикл, который перезаписывает каждый файл из 'cash_flow_merged', чтобы сохранить внесённые ранее изменения в его структуру\n",
    "'''\n",
    "for i in cash_flow_merged.items():\n",
    "    i[1].to_csv(os.path.join(source_bank_statements, i[0].replace('xlsx', 'csv')),\n",
    "                header=True,\n",
    "                index=False)"
   ]
  },
  {
   "cell_type": "code",
   "execution_count": null,
   "id": "96be2370",
   "metadata": {},
   "outputs": [],
   "source": [
    "# путь для сохранения исходных данных\n",
    "path_to_save = pathlib.Path(os.getcwd().replace('Scripts', 'Data'))"
   ]
  },
  {
   "cell_type": "code",
   "execution_count": null,
   "id": "07dae97b",
   "metadata": {},
   "outputs": [],
   "source": [
    "# создадим словарь с расположением новых папок по группам компаний\n",
    "folder_location = {i: os.path.join(path_to_save) for i in cash_flow_merged.keys()}"
   ]
  },
  {
   "cell_type": "code",
   "execution_count": null,
   "id": "7b4e44db",
   "metadata": {},
   "outputs": [],
   "source": [
    "# создаются только те папки, которые до этого не существовали\n",
    "for i in folder_location.items():\n",
    "    if not os.path.exists(i[1]):\n",
    "        os.makedirs(i[1])"
   ]
  },
  {
   "cell_type": "code",
   "execution_count": null,
   "id": "a2f90361",
   "metadata": {
    "scrolled": true
   },
   "outputs": [],
   "source": [
    "# цикл, который копирует каждый файл из 'cash_flow_merged' в новую папку\n",
    "for i in folder_location.items():\n",
    "    shutil.copy(os.path.join(source_bank_statements, i[0].replace('xlsx', 'csv')), i[1])\n",
    "    # удалим исходные данные с расширением .csv из первоначальной папки\n",
    "    os.remove(os.path.join(source_bank_statements, i[0].replace('xlsx', 'csv')))"
   ]
  },
  {
   "cell_type": "code",
   "execution_count": null,
   "id": "1fea7514",
   "metadata": {},
   "outputs": [],
   "source": [
    "# удалим исходные данные с расширением .xlsx из первоначальной папки\n",
    "for i in bank_statements_name:\n",
    "    os.remove(os.path.join(source_bank_statements, i))"
   ]
  }
 ],
 "metadata": {
  "kernelspec": {
   "display_name": "Python 3 (ipykernel)",
   "language": "python",
   "name": "python3"
  },
  "language_info": {
   "codemirror_mode": {
    "name": "ipython",
    "version": 3
   },
   "file_extension": ".py",
   "mimetype": "text/x-python",
   "name": "python",
   "nbconvert_exporter": "python",
   "pygments_lexer": "ipython3",
   "version": "3.11.5"
  }
 },
 "nbformat": 4,
 "nbformat_minor": 5
}
