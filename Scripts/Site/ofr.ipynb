{
 "cells": [
  {
   "cell_type": "markdown",
   "id": "9c154065",
   "metadata": {},
   "source": [
    "## Обработка отчёта о финансовых результатах"
   ]
  },
  {
   "cell_type": "code",
   "execution_count": null,
   "id": "85712d36",
   "metadata": {},
   "outputs": [],
   "source": [
    "import pandas as pd\n",
    "import pathlib\n",
    "import shutil\n",
    "import os"
   ]
  },
  {
   "cell_type": "code",
   "execution_count": null,
   "id": "7c2fa445",
   "metadata": {},
   "outputs": [],
   "source": [
    "# запишем путь к папке с исходными данными в переменную\n",
    "source = pathlib.Path(os.getcwd().replace('Fin_Flow', os.path.join('YandexDisk', 'Fin_Flow')).replace('Scripts', 'Source data'))"
   ]
  },
  {
   "cell_type": "code",
   "execution_count": null,
   "id": "150bacdb",
   "metadata": {
    "scrolled": true
   },
   "outputs": [],
   "source": [
    "print('Расчёт \"Выручка\":')\n",
    "import revenue\n",
    "from revenue import rev_merged\n",
    "print()\n",
    "print('Расчёт \"Себестоимость продаж\":')\n",
    "import cost_of_sales\n",
    "from cost_of_sales import costs_merged\n",
    "print()\n",
    "print('Расчёт \"Коммерческие расходы\":')\n",
    "import commercial_costs\n",
    "from commercial_costs import com_costs_merged\n",
    "print()\n",
    "print('Расчёт \"Управленческие расходы\":')\n",
    "import administrative_costs\n",
    "from administrative_costs import adm_costs_merged\n",
    "print()\n",
    "print('Расчёт \"Прочие доходы\":')\n",
    "import other_income\n",
    "from other_income import oth_incom_merged\n",
    "print()\n",
    "print('Расчёт \"Прочие расходы\":')\n",
    "import other_costs\n",
    "from other_costs import oth_costs_merged\n",
    "print()\n",
    "print('Расчёт \"Налог на прибыль\":')\n",
    "import income_tax\n",
    "from income_tax import tax_merged"
   ]
  },
  {
   "cell_type": "code",
   "execution_count": null,
   "id": "24ba4eb5",
   "metadata": {},
   "outputs": [],
   "source": [
    "ofr = {i[0].replace('Выручка', 'ОФР'): pd.concat([rev_merged[i[0]],\n",
    "                                                  costs_merged[i[0].replace('Выручка', 'Себестоимость продаж')],\n",
    "                                                  com_costs_merged[i[0].replace('Выручка', 'Коммерческие расходы')],\n",
    "                                                  adm_costs_merged[i[0].replace('Выручка', 'Управленческие расходы')],\n",
    "                                                  oth_incom_merged[i[0].replace('Выручка', 'Прочие доходы')],\n",
    "                                                  oth_costs_merged[i[0].replace('Выручка', 'Прочие расходы')],\n",
    "                                                  tax_merged[i[0].replace('Выручка', 'Налог на прибыль')]]).reset_index(drop=True)\n",
    "       for i in rev_merged.items()}"
   ]
  },
  {
   "cell_type": "code",
   "execution_count": null,
   "id": "2d7e7f93",
   "metadata": {},
   "outputs": [],
   "source": [
    "# определим последнюю дату по всем показателям группы компаний, чтобы продлить показатели с более ранними последними датами до самой поздней даты\n",
    "last_date = {i[0]: i[1].sort_values(by='Дата')['Дата'].iloc[-1] for i in ofr.items()}"
   ]
  },
  {
   "cell_type": "code",
   "execution_count": null,
   "id": "4a506640",
   "metadata": {},
   "outputs": [],
   "source": [
    "# создадим словарь со строками на последнюю дату из показателей, которые нужно продлить\n",
    "ofr_new_rows = {i[0]: i[1].groupby(['Организация', 'Показатель'], as_index=False)['Дата'].max() for i in ofr.items()}"
   ]
  },
  {
   "cell_type": "code",
   "execution_count": null,
   "id": "6f2a16a6",
   "metadata": {},
   "outputs": [],
   "source": [
    "# оставим только те показатели, которые нужно продлить\n",
    "ofr_new_rows = {i[0]: i[1][i[1]['Дата'] != i[1]['Дата'].max()] for i in ofr_new_rows.items()}"
   ]
  },
  {
   "cell_type": "code",
   "execution_count": null,
   "id": "c952c34b",
   "metadata": {},
   "outputs": [],
   "source": [
    "# получим строки, которые нужно продлить\n",
    "ofr_new_rows = {i[0]: pd.merge(i[1], ofr[i[0]],\n",
    "                               on=['Организация',\n",
    "                                   'Показатель',\n",
    "                                   'Дата'],\n",
    "                               how='left') for i in ofr_new_rows.items()}"
   ]
  },
  {
   "cell_type": "code",
   "execution_count": null,
   "id": "09143648",
   "metadata": {},
   "outputs": [],
   "source": [
    "# добавим промежуточные значения по остаткам на счёте, используя диапазоны дат\n",
    "for i in ofr_new_rows.items():\n",
    "    i[1]['Начальная дата'] = i[1]['Дата']\n",
    "    i[1]['Конечная дата'] = last_date[i[0]]\n",
    "    i[1]['Дата'] = i[1].apply(lambda row: pd.date_range(start=row['Начальная дата'],\n",
    "                                                        end=row['Конечная дата']).tolist()\n",
    "                              if pd.notna(row['Начальная дата'])\n",
    "                              else row['Дата'],\n",
    "                              axis=1)"
   ]
  },
  {
   "cell_type": "code",
   "execution_count": null,
   "id": "b6164425",
   "metadata": {},
   "outputs": [],
   "source": [
    "# добавим новые строки с датами\n",
    "ofr_new_rows = {i[0]: i[1].explode('Дата') for i in ofr_new_rows.items()}"
   ]
  },
  {
   "cell_type": "code",
   "execution_count": null,
   "id": "48c71157",
   "metadata": {},
   "outputs": [],
   "source": [
    "# удалим первоначальные строки, которые уже есть в ofr, чтобы избежать дубликатов\n",
    "ofr_new_rows = {i[0]: i[1][i[1]['Дата'] != i[1]['Начальная дата']] for i in ofr_new_rows.items()}"
   ]
  },
  {
   "cell_type": "code",
   "execution_count": null,
   "id": "3aeab3e3",
   "metadata": {},
   "outputs": [],
   "source": [
    "ofr_new_rows = {i[0]: i[1].drop(columns=['Начальная дата',\n",
    "                                         'Конечная дата'])\n",
    "                for i in ofr_new_rows.items()}"
   ]
  },
  {
   "cell_type": "code",
   "execution_count": null,
   "id": "89bf40af",
   "metadata": {},
   "outputs": [],
   "source": [
    "for i in ofr_new_rows.values():\n",
    "    i['Изменение'] = 0.0\n",
    "    i['Начальный остаток'] = i['Конечный остаток']"
   ]
  },
  {
   "cell_type": "code",
   "execution_count": null,
   "id": "6c381ebb",
   "metadata": {},
   "outputs": [],
   "source": [
    "# добавим новые строки\n",
    "ofr = {i[0]: pd.concat([i[1],\n",
    "                        ofr_new_rows[i[0]]]).reset_index(drop=True)\n",
    "       for i in ofr.items()}"
   ]
  },
  {
   "cell_type": "code",
   "execution_count": null,
   "id": "cc608189",
   "metadata": {},
   "outputs": [],
   "source": [
    "# рассчитаем прибыль\n",
    "profit = {i[0]: i[1].groupby(['Показатель',\n",
    "                              'Организация',\n",
    "                              'Дата'], as_index=False)['Изменение'].sum() for i in ofr.items()}"
   ]
  },
  {
   "cell_type": "code",
   "execution_count": null,
   "id": "3af235a5",
   "metadata": {},
   "outputs": [],
   "source": [
    "profit = {i[0]: i[1].pivot_table(index='Дата', columns=['Показатель', 'Организация'], values='Изменение').reset_index() for i in profit.items()}"
   ]
  },
  {
   "cell_type": "code",
   "execution_count": null,
   "id": "2b87b3ae",
   "metadata": {},
   "outputs": [],
   "source": [
    "for i in profit.values():\n",
    "    i['Выручка'] = i['Выручка'].fillna(0)\n",
    "    i['Себестоимость продаж'] = i['Себестоимость продаж'].fillna(0)\n",
    "    i['Коммерческие расходы'] = i['Коммерческие расходы'].fillna(0)\n",
    "    i['Управленческие расходы'] = i['Управленческие расходы'].fillna(0)\n",
    "    i['Прочие доходы'] = i['Прочие доходы'].fillna(0)\n",
    "    i['Прочие расходы'] = i['Прочие расходы'].fillna(0)\n",
    "    i['Налог на прибыль'] = i['Налог на прибыль'].fillna(0)"
   ]
  },
  {
   "cell_type": "code",
   "execution_count": null,
   "id": "aa455b8d",
   "metadata": {},
   "outputs": [],
   "source": [
    "for i in profit.values():\n",
    "    for column in i.columns.levels[1].drop(''):\n",
    "        for index, row in i.iterrows():\n",
    "            i.at[index, ('Валовая прибыль (убыток)', column)] = row['Выручка'][column] + row['Себестоимость продаж'][column]"
   ]
  },
  {
   "cell_type": "code",
   "execution_count": null,
   "id": "110f2622",
   "metadata": {},
   "outputs": [],
   "source": [
    "for i in profit.values():\n",
    "    for column in i.columns.levels[1].drop(''):\n",
    "        for index, row in i.iterrows():\n",
    "            i.at[index, ('Прибыль (убыток) от продаж', column)] = row['Валовая прибыль (убыток)'][column] + row['Коммерческие расходы'][column] + row['Управленческие расходы'][column]"
   ]
  },
  {
   "cell_type": "code",
   "execution_count": null,
   "id": "01f93c66",
   "metadata": {},
   "outputs": [],
   "source": [
    "for i in profit.values():\n",
    "    for column in i.columns.levels[1].drop(''):\n",
    "        for index, row in i.iterrows():\n",
    "            i.at[index, ('Прибыль (убыток) до налогообложения', column)] = row['Прибыль (убыток) от продаж'][column] + row['Прочие доходы'][column] + row['Прочие расходы'][column]   "
   ]
  },
  {
   "cell_type": "code",
   "execution_count": null,
   "id": "d0745ab3",
   "metadata": {},
   "outputs": [],
   "source": [
    "for i in profit.values():\n",
    "    for column in i.columns.levels[1].drop(''):\n",
    "        for index, row in i.iterrows():\n",
    "            i.at[index, ('Чистая прибыль (убыток)', column)] = row['Прибыль (убыток) до налогообложения'][column] + row['Налог на прибыль'][column]"
   ]
  },
  {
   "cell_type": "code",
   "execution_count": null,
   "id": "5269b5dd",
   "metadata": {},
   "outputs": [],
   "source": [
    "profit = {i[0]: i[1].melt(id_vars='Дата', var_name=['Показатель', 'Организация'], value_name='Изменение') for i in profit.items()}"
   ]
  },
  {
   "cell_type": "code",
   "execution_count": null,
   "id": "df9ca7d5",
   "metadata": {},
   "outputs": [],
   "source": [
    "gross_profit = {i[0]: i[1].query('Показатель == \"Валовая прибыль (убыток)\"').reset_index(drop=True) for i in profit.items()}"
   ]
  },
  {
   "cell_type": "code",
   "execution_count": null,
   "id": "f1420eb7",
   "metadata": {},
   "outputs": [],
   "source": [
    "grouped_dict = {}\n",
    "for key, value in gross_profit.items():\n",
    "    # применение операций shift и cumsum к каждой организации отдельно\n",
    "    group_list = []\n",
    "    for name, group in value.groupby(['Организация']):\n",
    "        group['Начальный остаток'] = group['Изменение'].shift(fill_value=0).cumsum()\n",
    "        group['Конечный остаток'] = group['Начальный остаток'] + group['Изменение']\n",
    "        group_list.append(group)\n",
    "    table = pd.concat(group_list, axis=0)\n",
    "    grouped_dict[key] = table\n",
    "\n",
    "gross_profit = grouped_dict"
   ]
  },
  {
   "cell_type": "code",
   "execution_count": null,
   "id": "b9ac5bd4",
   "metadata": {},
   "outputs": [],
   "source": [
    "sales_profit = {i[0]: i[1].query('Показатель == \"Прибыль (убыток) от продаж\"').reset_index(drop=True) for i in profit.items()}"
   ]
  },
  {
   "cell_type": "code",
   "execution_count": null,
   "id": "f00f7d28",
   "metadata": {},
   "outputs": [],
   "source": [
    "grouped_dict = {}\n",
    "for key, value in sales_profit.items():\n",
    "    # применение операций shift и cumsum к каждой организации отдельно\n",
    "    group_list = []\n",
    "    for name, group in value.groupby(['Организация']):\n",
    "        group['Начальный остаток'] = group['Изменение'].shift(fill_value=0).cumsum()\n",
    "        group['Конечный остаток'] = group['Начальный остаток'] + group['Изменение']\n",
    "        group_list.append(group)\n",
    "    table = pd.concat(group_list, axis=0)\n",
    "    grouped_dict[key] = table\n",
    "\n",
    "sales_profit = grouped_dict"
   ]
  },
  {
   "cell_type": "code",
   "execution_count": null,
   "id": "abd1dbec",
   "metadata": {},
   "outputs": [],
   "source": [
    "profit_before_tax = {i[0]: i[1].query('Показатель == \"Прибыль (убыток) до налогообложения\"').reset_index(drop=True) for i in profit.items()}"
   ]
  },
  {
   "cell_type": "code",
   "execution_count": null,
   "id": "7e21ee1b",
   "metadata": {},
   "outputs": [],
   "source": [
    "grouped_dict = {}\n",
    "for key, value in profit_before_tax.items():\n",
    "    # применение операций shift и cumsum к каждой организации отдельно\n",
    "    group_list = []\n",
    "    for name, group in value.groupby(['Организация']):\n",
    "        group['Начальный остаток'] = group['Изменение'].shift(fill_value=0).cumsum()\n",
    "        group['Конечный остаток'] = group['Начальный остаток'] + group['Изменение']\n",
    "        group_list.append(group)\n",
    "    table = pd.concat(group_list, axis=0)\n",
    "    grouped_dict[key] = table\n",
    "\n",
    "profit_before_tax = grouped_dict"
   ]
  },
  {
   "cell_type": "code",
   "execution_count": null,
   "id": "69cba0b9",
   "metadata": {},
   "outputs": [],
   "source": [
    "net_profit = {i[0]: i[1].query('Показатель == \"Чистая прибыль (убыток)\"').reset_index(drop=True) for i in profit.items()}"
   ]
  },
  {
   "cell_type": "code",
   "execution_count": null,
   "id": "188cb1c4",
   "metadata": {},
   "outputs": [],
   "source": [
    "grouped_dict = {}\n",
    "for key, value in net_profit.items():\n",
    "    # применение операций shift и cumsum к каждой организации отдельно\n",
    "    group_list = []\n",
    "    for name, group in value.groupby(['Организация']):\n",
    "        group['Начальный остаток'] = group['Изменение'].shift(fill_value=0).cumsum()\n",
    "        group['Конечный остаток'] = group['Начальный остаток'] + group['Изменение']\n",
    "        group_list.append(group)\n",
    "    table = pd.concat(group_list, axis=0)\n",
    "    grouped_dict[key] = table\n",
    "\n",
    "net_profit = grouped_dict"
   ]
  },
  {
   "cell_type": "code",
   "execution_count": null,
   "id": "eb17bf0b",
   "metadata": {},
   "outputs": [],
   "source": [
    "ofr = {i[0]: pd.concat([i[1],\n",
    "                        gross_profit[i[0]],\n",
    "                        sales_profit[i[0]],\n",
    "                        profit_before_tax[i[0]],\n",
    "                        net_profit[i[0]]]).reset_index(drop=True)\n",
    "       for i in ofr.items()}"
   ]
  },
  {
   "cell_type": "code",
   "execution_count": null,
   "id": "e40e61e9",
   "metadata": {},
   "outputs": [],
   "source": [
    "for i in ofr.values():\n",
    "    i['Вид статьи'] = i['Вид статьи'].fillna('-')\n",
    "    i['Статья'] = i['Статья'].fillna('-')"
   ]
  },
  {
   "cell_type": "code",
   "execution_count": null,
   "id": "6c721946",
   "metadata": {},
   "outputs": [],
   "source": [
    "for i in ofr.items():\n",
    "    print(f'{i[0]}:')\n",
    "    print(i[1].info(show_counts=True))\n",
    "    print()"
   ]
  },
  {
   "cell_type": "code",
   "execution_count": null,
   "id": "c784b4a3",
   "metadata": {},
   "outputs": [],
   "source": [
    "'''\n",
    "Цикл, который перезаписывает каждый файл из 'ofr', чтобы сохранить внесённые ранее изменения в его структуру\n",
    "'''\n",
    "for i in ofr.items():\n",
    "    i[1].to_csv(os.path.join(source, i[0].replace('xlsx', 'csv')),\n",
    "                header=True,\n",
    "                index=False)"
   ]
  },
  {
   "cell_type": "code",
   "execution_count": null,
   "id": "96be2370",
   "metadata": {},
   "outputs": [],
   "source": [
    "# путь для сохранения исходных данных\n",
    "path_to_save = pathlib.Path(os.getcwd().replace('Scripts', 'Data'))"
   ]
  },
  {
   "cell_type": "code",
   "execution_count": null,
   "id": "07dae97b",
   "metadata": {},
   "outputs": [],
   "source": [
    "# создадим словарь с расположением новых папок по группам компаний\n",
    "folder_location = {i: os.path.join(path_to_save) for i in ofr.keys()}"
   ]
  },
  {
   "cell_type": "code",
   "execution_count": null,
   "id": "0010fc0e",
   "metadata": {},
   "outputs": [],
   "source": [
    "# создаются только те папки, которые до этого не существовали\n",
    "for i in folder_location.items():\n",
    "    if not os.path.exists(i[1]):\n",
    "        os.makedirs(i[1])"
   ]
  },
  {
   "cell_type": "code",
   "execution_count": null,
   "id": "a2f90361",
   "metadata": {
    "scrolled": true
   },
   "outputs": [],
   "source": [
    "# цикл, который копирует каждый файл из 'ofr' в новую папку\n",
    "for i in folder_location.items():\n",
    "    shutil.copy(os.path.join(source, i[0].replace('xlsx', 'csv')), i[1])\n",
    "    # удалим исходные данные с расширением .csv из первоначальной папки\n",
    "    os.remove(os.path.join(source, i[0].replace('xlsx', 'csv')))"
   ]
  }
 ],
 "metadata": {
  "kernelspec": {
   "display_name": "Python 3 (ipykernel)",
   "language": "python",
   "name": "python3"
  },
  "language_info": {
   "codemirror_mode": {
    "name": "ipython",
    "version": 3
   },
   "file_extension": ".py",
   "mimetype": "text/x-python",
   "name": "python",
   "nbconvert_exporter": "python",
   "pygments_lexer": "ipython3",
   "version": "3.11.5"
  }
 },
 "nbformat": 4,
 "nbformat_minor": 5
}
